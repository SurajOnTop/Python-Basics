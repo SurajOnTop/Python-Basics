{
 "cells": [
  {
   "cell_type": "code",
   "execution_count": null,
   "metadata": {
    "id": "qcdoqfRwaOic"
   },
   "outputs": [],
   "source": [
    "#ASSIGNMENT ON PYTHON FUNCTIONS"
   ]
  },
  {
   "cell_type": "code",
   "execution_count": null,
   "metadata": {
    "id": "i4Ew5bq5sAH5"
   },
   "outputs": [],
   "source": [
    "#THEORY QUESTIONS"
   ]
  },
  {
   "cell_type": "code",
   "execution_count": null,
   "metadata": {
    "colab": {
     "base_uri": "https://localhost:8080/"
    },
    "id": "nUBiW9vwanSK",
    "outputId": "3bd31ae5-9cac-4c23-84be-8e1f12eeedfe"
   },
   "outputs": [
    {
     "data": {
      "text/plain": [
       "20"
      ]
     },
     "execution_count": 4,
     "metadata": {},
     "output_type": "execute_result"
    }
   ],
   "source": [
    "#What is the difference between a function and a method in Python?\n",
    "\n",
    "# A function is a block of code that performs a specific task and can be called independently whereas Methods are functions that belong to an object or a class and are called on instances (objects) of that class.\n",
    "\n",
    "# For example,\n",
    "def add(a,b):\n",
    "  return a + b\n",
    "\n",
    "add(5,15)"
   ]
  },
  {
   "cell_type": "code",
   "execution_count": null,
   "metadata": {
    "colab": {
     "base_uri": "https://localhost:8080/"
    },
    "id": "WLQSbYPHca2u",
    "outputId": "dae7bf3a-78c4-40c9-9e23-3faeffdd4ea6"
   },
   "outputs": [
    {
     "data": {
      "text/plain": [
       "20"
      ]
     },
     "execution_count": 5,
     "metadata": {},
     "output_type": "execute_result"
    }
   ],
   "source": [
    "#Explain the concept of function arguments and parameters in Python.\n",
    "\n",
    "#Parameters are the variables defined in the function, they can be assigned a value while performing a function.\n",
    "#Arguments are the actual values or data passed to the function when calling it.\n",
    "\n",
    "#For example,\n",
    "def add(a,b):       #Here, a & b are parameters\n",
    "  return a + b\n",
    "\n",
    "add(5,15)           #Here, 5 & 15 are arguments"
   ]
  },
  {
   "cell_type": "code",
   "execution_count": null,
   "metadata": {
    "colab": {
     "base_uri": "https://localhost:8080/"
    },
    "id": "HefFix3LdinI",
    "outputId": "0a6b02fe-b809-4b5b-c1fb-fbea6a79c021"
   },
   "outputs": [
    {
     "name": "stdout",
     "output_type": "stream",
     "text": [
      "20\n"
     ]
    }
   ],
   "source": [
    "#What are the different ways to define and call a function in Python?\n",
    "\n",
    "#There are many ways to define a function in Python,\n",
    "\n",
    "#1, Using normal command,\n",
    "def add(a,b):\n",
    "  return a + b\n",
    "\n",
    "add(5,15)\n",
    "\n",
    "#2, Using Lambda,\n",
    "addition = (lambda a,b: a + b)(5,15)\n",
    "print(addition)"
   ]
  },
  {
   "cell_type": "code",
   "execution_count": null,
   "metadata": {
    "colab": {
     "base_uri": "https://localhost:8080/"
    },
    "id": "GMat8bKnecOw",
    "outputId": "c80457d4-7f1e-49d9-f04f-9fdc24c4149c"
   },
   "outputs": [
    {
     "data": {
      "text/plain": [
       "20"
      ]
     },
     "execution_count": 8,
     "metadata": {},
     "output_type": "execute_result"
    }
   ],
   "source": [
    "#What is the purpose of the `return` statement in a Python function?\n",
    "\n",
    "#Return is used to return/print the value from the function\n",
    "#It is also used to exit the function\n",
    "#It is also used to finish the function\n",
    "\n",
    "def add(a,b):\n",
    "  return a + b\n",
    "\n",
    "add(5,15)       #Here, return is exiting/ending the function and also printing the values from the function."
   ]
  },
  {
   "cell_type": "code",
   "execution_count": null,
   "metadata": {
    "colab": {
     "base_uri": "https://localhost:8080/"
    },
    "id": "7r7p-U2_fbXP",
    "outputId": "9516e21e-8ad8-4fea-bf78-fda388a020f2"
   },
   "outputs": [
    {
     "data": {
      "text/plain": [
       "4"
      ]
     },
     "execution_count": 9,
     "metadata": {},
     "output_type": "execute_result"
    }
   ],
   "source": [
    "#What are iterators in Python and how do they differ from iterables?\n",
    "\n",
    "#Iterators are the objects that keeps track of the iteration state and can return the next item in a sequence.\n",
    "#Iterables are the objects that can be iterated over and over again\n",
    "#For example,\n",
    "l = [1,2,3,4,5]     #Here, l is iterable\n",
    "it = iter(l)        #Here, it is iterator\n",
    "next(it)\n",
    "next(it)\n",
    "next(it)\n",
    "next(it)\n"
   ]
  },
  {
   "cell_type": "code",
   "execution_count": null,
   "metadata": {
    "colab": {
     "base_uri": "https://localhost:8080/"
    },
    "id": "frXAko_rgvBJ",
    "outputId": "63f5c6ef-0b46-4b27-c0a5-54f450200026"
   },
   "outputs": [
    {
     "data": {
      "text/plain": [
       "9"
      ]
     },
     "execution_count": 11,
     "metadata": {},
     "output_type": "execute_result"
    }
   ],
   "source": [
    "#Explain the concept of generators in Python and how they are defined.\n",
    "\n",
    "#Generators are basically a simple method to create iterators using functions instead of returning values.\n",
    "\n",
    "#For example,\n",
    "square = (a**2 for a in range(1,11))\n",
    "next(square)\n",
    "next(square)\n",
    "next(square)"
   ]
  },
  {
   "cell_type": "code",
   "execution_count": null,
   "metadata": {
    "colab": {
     "base_uri": "https://localhost:8080/"
    },
    "id": "AXMpjfxAhaCL",
    "outputId": "45f5ca07-bcb0-4b44-ff5a-1f5127e5b34c"
   },
   "outputs": [
    {
     "name": "stdout",
     "output_type": "stream",
     "text": [
      "1\n",
      "4\n",
      "9\n",
      "16\n",
      "25\n"
     ]
    },
    {
     "data": {
      "text/plain": [
       "9"
      ]
     },
     "execution_count": 41,
     "metadata": {},
     "output_type": "execute_result"
    }
   ],
   "source": [
    "#What are the advantages of using generators over regular functions?\n",
    "\n",
    "#Memory efficiency - Generatorts are more memory efficient as compared to regular function as the do each steps one by one.\n",
    "#Improved Performance -Generators only calculate next value when requested, this lkead to better performance.\n",
    "#Readable Code for Iteration -Generators provide a cleaner and more readable way to iterate over sequences of values.\n",
    "\n",
    "#For example,\n",
    "#x = 5\n",
    "def sq(lst):\n",
    "    for x in lst:\n",
    "        print(x ** 2)\n",
    "\n",
    "l = [1,2,3,4,5]\n",
    "sq(l)                          #It proxess all together\n",
    "\n",
    "#Example of generators,\n",
    "square = (a**2 for a in range(1,11))\n",
    "next(square)\n",
    "next(square)\n",
    "next(square)                   #It process all separately when requested"
   ]
  },
  {
   "cell_type": "code",
   "execution_count": null,
   "metadata": {
    "colab": {
     "base_uri": "https://localhost:8080/"
    },
    "id": "CH7KoIgHpmqn",
    "outputId": "25d0196e-af3c-40e1-903d-1654bdde3c24"
   },
   "outputs": [
    {
     "name": "stdout",
     "output_type": "stream",
     "text": [
      "20\n"
     ]
    }
   ],
   "source": [
    "#What is a lambda function in Python and when is it typically used?\n",
    "\n",
    "#A lambda function in Python is a small, anonymous function defined using the lambda keyword.\n",
    "\n",
    "#It is used to,\n",
    "# - Make code easier to read\n",
    "# - Make code easier to type\n",
    "# - Make code less time consuming\n",
    "\n",
    "#For example,\n",
    "add = (lambda a,b: a + b)(5,15)\n",
    "print(add)"
   ]
  },
  {
   "cell_type": "code",
   "execution_count": null,
   "metadata": {
    "colab": {
     "base_uri": "https://localhost:8080/"
    },
    "id": "cAzmQDXwqMEv",
    "outputId": "543c0bac-5e07-41c1-ef55-c922cf06d5da"
   },
   "outputs": [
    {
     "name": "stdout",
     "output_type": "stream",
     "text": [
      "[1, 4, 9, 16, 25]\n"
     ]
    }
   ],
   "source": [
    "#Explain the purpose and usage of the `map()` function in Python.\n",
    "\n",
    "#The map() function in Python is used to apply a given function to each item in a list, tuple etc and return values after processing them.\n",
    "\n",
    "#For example,\n",
    "l = [1,2,3,4,5]\n",
    "square = list(map(lambda x: x**2, l))\n",
    "print(square)"
   ]
  },
  {
   "cell_type": "code",
   "execution_count": null,
   "metadata": {
    "colab": {
     "base_uri": "https://localhost:8080/"
    },
    "id": "6DHJrglVqg5W",
    "outputId": "ce404975-f956-4585-9561-4fc14c0a09f8"
   },
   "outputs": [
    {
     "name": "stdout",
     "output_type": "stream",
     "text": [
      "[1, 4, 9, 16, 25]\n",
      "15\n",
      "[2, 4]\n"
     ]
    }
   ],
   "source": [
    "#What is the difference between `map()`, `reduce()`, and `filter()` functions in Python?\n",
    "\n",
    "#The map() function in Python is used to apply a given function to each item in a list, tuple etc and return values after processing them.\n",
    "\n",
    "#For example,\n",
    "l = [1,2,3,4,5]\n",
    "square = list(map(lambda x: x**2, l))\n",
    "print(square)\n",
    "\n",
    "#The reduce() function in Python is used to apply a function(With two arguments) cumulatively to the items of an list, tuple etc and process it to a single value.\n",
    "l = [1,2,3,4,5]\n",
    "from functools import reduce\n",
    "sum = reduce(lambda x,y: x+y, l)\n",
    "print(sum)\n",
    "\n",
    "#The filter() function in Python is used to filter elements from a list, tuple, etc. based on a given condition defined by a function.\n",
    "l = [1,2,3,4,5]\n",
    "even = list(filter(lambda x: x%2==0, l))\n",
    "print(even)"
   ]
  },
  {
   "cell_type": "code",
   "execution_count": 1,
   "metadata": {
    "id": "h0-hhtt0hL6X"
   },
   "outputs": [],
   "source": [
    "#Using pen & Paper write the internal mechanism for sum operation using  reduce function on this given list:[47,11,42,13];\n"
   ]
  },
  {
   "cell_type": "code",
   "execution_count": null,
   "metadata": {
    "id": "iOhmI54HVB9u"
   },
   "outputs": [],
   "source": [
    "#PRACTICAL QUESTIONS"
   ]
  },
  {
   "cell_type": "code",
   "execution_count": null,
   "metadata": {
    "colab": {
     "base_uri": "https://localhost:8080/"
    },
    "id": "w4jgEpyHVKWn",
    "outputId": "1f6c70d9-e86f-49a0-c712-b3be3ec9c226"
   },
   "outputs": [
    {
     "data": {
      "text/plain": [
       "6"
      ]
     },
     "execution_count": 3,
     "metadata": {},
     "output_type": "execute_result"
    }
   ],
   "source": [
    "#Write a Python function that takes a list of numbers as input and returns the sum of all even numbers in the list.\n",
    "\n",
    "def sum_even(lst):\n",
    "    sum = 0\n",
    "    for x in lst:\n",
    "        if x % 2 == 0:\n",
    "            sum += x\n",
    "    return sum\n",
    "\n",
    "l = [1,2,3,4,5]\n",
    "sum_even(l)"
   ]
  },
  {
   "cell_type": "code",
   "execution_count": null,
   "metadata": {
    "colab": {
     "base_uri": "https://localhost:8080/",
     "height": 35
    },
    "id": "hhxuoc-yVmeZ",
    "outputId": "b768f8a6-1355-423e-aeeb-0732709648a3"
   },
   "outputs": [
    {
     "data": {
      "application/vnd.google.colaboratory.intrinsic+json": {
       "type": "string"
      },
      "text/plain": [
       "'jaruS'"
      ]
     },
     "execution_count": 4,
     "metadata": {},
     "output_type": "execute_result"
    }
   ],
   "source": [
    "#Create a Python function that accepts a string and returns the reverse of that string.\n",
    "\n",
    "def reverse(string):\n",
    "    return string[::-1]\n",
    "\n",
    "string = \"Suraj\"\n",
    "reverse(string)"
   ]
  },
  {
   "cell_type": "code",
   "execution_count": null,
   "metadata": {
    "colab": {
     "base_uri": "https://localhost:8080/"
    },
    "id": "GRjRKrP5V2SR",
    "outputId": "5cffb58f-1795-4285-d532-fb5397512094"
   },
   "outputs": [
    {
     "data": {
      "text/plain": [
       "[1, 4, 9, 16, 25]"
      ]
     },
     "execution_count": 5,
     "metadata": {},
     "output_type": "execute_result"
    }
   ],
   "source": [
    "#Implement a Python function that takes a list of integers and returns a new list containing the squares of each number.\n",
    "\n",
    "def square(lst):\n",
    "    return [x**2 for x in lst]\n",
    "\n",
    "l = [1,2,3,4,5]\n",
    "square(l)"
   ]
  },
  {
   "cell_type": "code",
   "execution_count": 15,
   "metadata": {
    "colab": {
     "base_uri": "https://localhost:8080/"
    },
    "id": "WTIoZCavV_da",
    "outputId": "398ac234-7354-43c6-e862-ab45170a9a05"
   },
   "outputs": [
    {
     "name": "stdout",
     "output_type": "stream",
     "text": [
      "Enter a number: 55\n"
     ]
    },
    {
     "data": {
      "text/plain": [
       "False"
      ]
     },
     "execution_count": 15,
     "metadata": {},
     "output_type": "execute_result"
    }
   ],
   "source": [
    "#Write a Python function that checks if a given number is prime or not from 1 to 200.\n",
    "\n",
    "num = int(input(\"Enter a number: \"))\n",
    "prime = lambda num: all(num % i != 0 for i in range(2,int(num**0.5) + 1)) and num > 1\n",
    "prime(num)"
   ]
  },
  {
   "cell_type": "code",
   "execution_count": 16,
   "metadata": {
    "colab": {
     "base_uri": "https://localhost:8080/"
    },
    "id": "FsiaF53EWs4x",
    "outputId": "aad415cd-115f-4d27-d7b8-adbf20d34c3e"
   },
   "outputs": [
    {
     "data": {
      "text/plain": [
       "[0, 1, 1, 2, 3, 5, 8, 13, 21, 34]"
      ]
     },
     "execution_count": 16,
     "metadata": {},
     "output_type": "execute_result"
    }
   ],
   "source": [
    "#Create an iterator class in Python that generates the Fibonacci sequence up to a specified number of terms.\n",
    "\n",
    "fib = lambda n: n if n<=1 else fib(n-1) + fib(n-2)\n",
    "[fib(i) for i in range(10)]"
   ]
  },
  {
   "cell_type": "code",
   "execution_count": null,
   "metadata": {
    "colab": {
     "base_uri": "https://localhost:8080/"
    },
    "id": "DN9HSTBrXUa3",
    "outputId": "e6f3d699-cefb-42f6-e9e1-d99b61107936"
   },
   "outputs": [
    {
     "name": "stdout",
     "output_type": "stream",
     "text": [
      "1\n",
      "2\n",
      "4\n",
      "8\n",
      "16\n",
      "32\n"
     ]
    }
   ],
   "source": [
    "#Write a generator function in Python that yields the powers of 2 up to a given exponent.\n",
    "\n",
    "def powers_of_2(exponent):\n",
    "    for i in range(exponent + 1):\n",
    "        yield 2 ** i\n",
    "\n",
    "for power in powers_of_2(5):\n",
    "    print(power)"
   ]
  },
  {
   "cell_type": "code",
   "execution_count": null,
   "metadata": {
    "id": "yrPHgUUBX9VT"
   },
   "outputs": [],
   "source": [
    "#Implement a generator function that reads a file line by line and yields each line as a string.\n"
   ]
  },
  {
   "cell_type": "code",
   "execution_count": null,
   "metadata": {
    "colab": {
     "base_uri": "https://localhost:8080/"
    },
    "id": "wOMVXss2YZqg",
    "outputId": "a3c66446-d152-4ba3-d30c-2447672e8f61"
   },
   "outputs": [
    {
     "name": "stdout",
     "output_type": "stream",
     "text": [
      "[(3, 2), (1, 4), (4, 6), (5, 8)]\n"
     ]
    }
   ],
   "source": [
    "#Use a lambda function in Python to sort a list of tuples based on the second element of each tuple.\n",
    "\n",
    "t1 = [(1, 4), (3, 2), (5, 8), (4, 6)]\n",
    "s1 = sorted(t1, key=lambda x: x[1])\n",
    "\n",
    "print(s1)"
   ]
  },
  {
   "cell_type": "code",
   "execution_count": null,
   "metadata": {
    "colab": {
     "base_uri": "https://localhost:8080/"
    },
    "id": "dcqJQNk_Y9l2",
    "outputId": "eaa3d0f3-4f2f-4f7d-fc16-67b214cb3072"
   },
   "outputs": [
    {
     "name": "stdout",
     "output_type": "stream",
     "text": [
      "[73.4, 129.2, 152.6, 212.0, 224.6]\n"
     ]
    }
   ],
   "source": [
    "#Write a Python program that uses `map()` to convert a list of temperatures from Celsius to Fahrenheit.\n",
    "\n",
    "temp_C = [23,54,67,100,107]\n",
    "def C_to_F(temp):\n",
    "    return (temp * 9/5) + 32\n",
    "\n",
    "temp_F = list(map(C_to_F, temp_C))\n",
    "print(temp_F)"
   ]
  },
  {
   "cell_type": "code",
   "execution_count": null,
   "metadata": {
    "colab": {
     "base_uri": "https://localhost:8080/"
    },
    "id": "vasu0pe7Za7y",
    "outputId": "f178ac25-711e-431e-f867-3d0083f539a6"
   },
   "outputs": [
    {
     "name": "stdout",
     "output_type": "stream",
     "text": [
      "[]\n"
     ]
    }
   ],
   "source": [
    "#Create a Python program that uses `filter()` to remove all the vowels from a given string.\n",
    "\n",
    "def vowel(char):\n",
    "  char.lower() not in \"aeoiu\"\n",
    "\n",
    "s1 = \"Suraj Thakur\"\n",
    "vowels = list(filter(vowel, s1))\n",
    "print(vowels)\n"
   ]
  },
  {
   "cell_type": "code",
   "execution_count": null,
   "metadata": {
    "id": "nvliU3mKaE_l"
   },
   "outputs": [],
   "source": []
  }
 ],
 "metadata": {
  "colab": {
   "provenance": []
  },
  "kernelspec": {
   "display_name": "Python 3 (ipykernel)",
   "language": "python",
   "name": "python3"
  },
  "language_info": {
   "codemirror_mode": {
    "name": "ipython",
    "version": 3
   },
   "file_extension": ".py",
   "mimetype": "text/x-python",
   "name": "python",
   "nbconvert_exporter": "python",
   "pygments_lexer": "ipython3",
   "version": "3.12.3"
  }
 },
 "nbformat": 4,
 "nbformat_minor": 1
}
