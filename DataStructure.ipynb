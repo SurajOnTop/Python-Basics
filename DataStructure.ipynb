{
  "nbformat": 4,
  "nbformat_minor": 0,
  "metadata": {
    "colab": {
      "provenance": []
    },
    "kernelspec": {
      "name": "python3",
      "display_name": "Python 3"
    },
    "language_info": {
      "name": "python"
    }
  },
  "cells": [
    {
      "cell_type": "code",
      "execution_count": 1,
      "metadata": {
        "id": "dF4kFSpdHzwT"
      },
      "outputs": [],
      "source": [
        "#Data Structure Assignment"
      ]
    },
    {
      "cell_type": "code",
      "source": [
        "#Discuss string slicing and provide examples.\n",
        "\n",
        "#String slicing basically allows you to extract a specific portion of a string by specifying the starting and ending point.\n",
        "#For example:-\n",
        "a = \"hello world\"\n",
        "a[0:5]   #This will extract string only from 0 to 5 index"
      ],
      "metadata": {
        "colab": {
          "base_uri": "https://localhost:8080/",
          "height": 35
        },
        "id": "ndC9R-02H3mn",
        "outputId": "0698162b-1f69-43eb-b828-1715e25fa9b7"
      },
      "execution_count": 2,
      "outputs": [
        {
          "output_type": "execute_result",
          "data": {
            "text/plain": [
              "'hello'"
            ],
            "application/vnd.google.colaboratory.intrinsic+json": {
              "type": "string"
            }
          },
          "metadata": {},
          "execution_count": 2
        }
      ]
    },
    {
      "cell_type": "code",
      "source": [
        "#Explain the key features of lists in Python\n",
        "\n",
        "#Following are the key features of the list:-\n",
        " #Lists are mutable.\n",
        " #Lists can hold various types of data.\n",
        " #Lists are ordered.\n",
        " #Lists support indexin(Data can be find using index)."
      ],
      "metadata": {
        "id": "ODC4yxOyH7w9"
      },
      "execution_count": 3,
      "outputs": []
    },
    {
      "cell_type": "code",
      "source": [
        "#Describe how to access, modify, and delete elements in a list with examples.\n",
        "\n",
        "list = ['Apple','Mango','Grapes']\n",
        "\n",
        "#To access the list, we can simply print it\n",
        "list\n",
        "#To access a specitic element in the list, we can use indexing\n",
        "list[0]\n",
        "#To modify the list, we can simply use following command\n",
        "list[0] = 'Pineapple'\n",
        "list\n",
        "#To add an element at the end, we can use\n",
        "list.append('Banana')\n",
        "list\n",
        "#To remove an element we can use\n",
        "list.remove('Grapes')\n",
        "list"
      ],
      "metadata": {
        "colab": {
          "base_uri": "https://localhost:8080/"
        },
        "id": "3ql9Twr-H-VF",
        "outputId": "7f03b1e0-65a1-422b-d721-f9c5a21b0399"
      },
      "execution_count": 4,
      "outputs": [
        {
          "output_type": "execute_result",
          "data": {
            "text/plain": [
              "['Pineapple', 'Mango', 'Banana']"
            ]
          },
          "metadata": {},
          "execution_count": 4
        }
      ]
    },
    {
      "cell_type": "code",
      "source": [
        "#Compare and contrast tuples and lists with examples.\n",
        "\n",
        "# 1) Lists are mutable whereas Tuples are immutable.\n",
        "# 2) Both are ordered.\n",
        "# 3) Lists are used when data need to be modified while Tuples are used where data do not need to be modified.\n",
        "# 4) For example=> Lists can be used to store address etc while Tuples are used to store aadhar card number etc."
      ],
      "metadata": {
        "id": "3pb-Ew_nICEE"
      },
      "execution_count": 5,
      "outputs": []
    },
    {
      "cell_type": "code",
      "source": [
        "#Describe the key features of sets and provide examples of their use.\n",
        "\n",
        "# 1) Sets are unordered,means indexing cannnot be used.\n",
        "# 2) Sets are collection of unique elements.\n",
        "# 3) Sets do not allow duplicate entries.\n",
        "# 4)Sets are mutable but cannot accessed by indexing."
      ],
      "metadata": {
        "id": "C0WP_6vhKEiy"
      },
      "execution_count": 6,
      "outputs": []
    },
    {
      "cell_type": "code",
      "source": [
        "#Discuss the use cases of tuples and sets in Python programming.\n",
        "\n",
        "#Tuples are used to store multiple items in a single variable.\n",
        "#Tuple is one of 4 built-in data types in Python used to store collections of data.\n",
        "\n",
        "#Sets are used in computing standard math operations such as union, intersection, difference, and symmetric difference\n",
        "#Sets are used to store multiple items in a single variable"
      ],
      "metadata": {
        "id": "ZEDI0twTLDg9"
      },
      "execution_count": 12,
      "outputs": []
    },
    {
      "cell_type": "code",
      "source": [
        "#Describe how to add, modify, and delete items in a dictionary with examples.\n",
        "\n",
        "dict = {\"Name\":\"Suraj Thakur\",\"Age\":18,\"Gender\":\"Male\"}\n",
        "\n",
        "#To access the dictionary\n",
        "dict\n",
        "#To add items in a dictionary\n",
        "dict[\"Hobby\"] = \"Cricket\"\n",
        "dict\n",
        "#To modify an item\n",
        "dict[\"Age\"] = 19\n",
        "dict\n",
        "#To delete an item\n",
        "del dict[\"Gender\"]\n",
        "dict"
      ],
      "metadata": {
        "colab": {
          "base_uri": "https://localhost:8080/"
        },
        "id": "IlFzSPRQLtaJ",
        "outputId": "c13586cc-5b0c-45ed-a098-135d606ecb10"
      },
      "execution_count": 11,
      "outputs": [
        {
          "output_type": "execute_result",
          "data": {
            "text/plain": [
              "{'Name': 'Suraj Thakur', 'Age': 19, 'Hobby': 'Cricket'}"
            ]
          },
          "metadata": {},
          "execution_count": 11
        }
      ]
    },
    {
      "cell_type": "code",
      "source": [
        "#Discuss the importance of dictionary keys being immutable and provide examples.\n",
        "\n",
        "#Dictionary keys are immutable because it ensures that the dictionary can efficiently look up values based on their keys.\n",
        "\n",
        "dict = {['sun','moon']:'star','planet':'earth'}\n",
        "dict\n",
        "#This will throw an error because lists are mutable and dictionary keys cant be mutable."
      ],
      "metadata": {
        "colab": {
          "base_uri": "https://localhost:8080/",
          "height": 211
        },
        "id": "z_mwP0PyMRM0",
        "outputId": "e065254d-68a7-4736-94d2-5ccdd8dae24e"
      },
      "execution_count": 14,
      "outputs": [
        {
          "output_type": "error",
          "ename": "TypeError",
          "evalue": "unhashable type: 'list'",
          "traceback": [
            "\u001b[0;31m---------------------------------------------------------------------------\u001b[0m",
            "\u001b[0;31mTypeError\u001b[0m                                 Traceback (most recent call last)",
            "\u001b[0;32m<ipython-input-14-82f2e18f72eb>\u001b[0m in \u001b[0;36m<cell line: 5>\u001b[0;34m()\u001b[0m\n\u001b[1;32m      3\u001b[0m \u001b[0;31m#Dictionary keys are immutable because it ensures that the dictionary can efficiently look up values based on their keys.\u001b[0m\u001b[0;34m\u001b[0m\u001b[0;34m\u001b[0m\u001b[0m\n\u001b[1;32m      4\u001b[0m \u001b[0;34m\u001b[0m\u001b[0m\n\u001b[0;32m----> 5\u001b[0;31m \u001b[0mdict\u001b[0m \u001b[0;34m=\u001b[0m \u001b[0;34m{\u001b[0m\u001b[0;34m[\u001b[0m\u001b[0;34m'sun'\u001b[0m\u001b[0;34m,\u001b[0m\u001b[0;34m'moon'\u001b[0m\u001b[0;34m]\u001b[0m\u001b[0;34m:\u001b[0m\u001b[0;34m'star'\u001b[0m\u001b[0;34m,\u001b[0m\u001b[0;34m'planet'\u001b[0m\u001b[0;34m:\u001b[0m\u001b[0;34m'earth'\u001b[0m\u001b[0;34m}\u001b[0m\u001b[0;34m\u001b[0m\u001b[0;34m\u001b[0m\u001b[0m\n\u001b[0m\u001b[1;32m      6\u001b[0m \u001b[0mdict\u001b[0m\u001b[0;34m\u001b[0m\u001b[0;34m\u001b[0m\u001b[0m\n\u001b[1;32m      7\u001b[0m \u001b[0;31m#This will throw an error because lists\u001b[0m\u001b[0;34m\u001b[0m\u001b[0;34m\u001b[0m\u001b[0m\n",
            "\u001b[0;31mTypeError\u001b[0m: unhashable type: 'list'"
          ]
        }
      ]
    },
    {
      "cell_type": "code",
      "source": [],
      "metadata": {
        "id": "seZl1rUmROWp"
      },
      "execution_count": null,
      "outputs": []
    }
  ]
}