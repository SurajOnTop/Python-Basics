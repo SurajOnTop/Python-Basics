{
  "nbformat": 4,
  "nbformat_minor": 0,
  "metadata": {
    "colab": {
      "provenance": []
    },
    "kernelspec": {
      "name": "python3",
      "display_name": "Python 3"
    },
    "language_info": {
      "name": "python"
    }
  },
  "cells": [
    {
      "cell_type": "code",
      "execution_count": 2,
      "metadata": {
        "id": "-lPEFxm1mwXQ"
      },
      "outputs": [],
      "source": [
        "#DATA ANALYST ASSIGNMENT"
      ]
    },
    {
      "cell_type": "code",
      "source": [
        "#Explain the key features of python that makes it a popular choice for programming.\n",
        "\n",
        "#Following are some key features:-\n",
        "# -Easy to understand and write- Python is a simple language which is easier to understand and it has simple codes that make it easier top understand and write.\n",
        "# -Estensive standard library- Python offers a large extensive standard library which is used to perform different types of tasks.\n",
        "# -Large community of developers- Python has a large and active community of developers\n"
      ],
      "metadata": {
        "id": "YhBklNYCniqA"
      },
      "execution_count": 3,
      "outputs": []
    },
    {
      "cell_type": "code",
      "source": [
        "# Describe the role of predefined keywords in Python and provide examples of how they are used in a program.\n",
        "\n",
        "#Predefined keywords are used to perform a specific task which is already defined to them that's why they are called predefined keywords.\n",
        "#Example :-\n",
        "# -\"print()\" used to print an output from a code i.e-\n",
        "print(\"My name is Suraj Thakur\") # This will print output \"My name is Suraj Thakur\"\n",
        "# -\"for\" is used to run for loop\n",
        "# -\"while\" is used to run while loop"
      ],
      "metadata": {
        "colab": {
          "base_uri": "https://localhost:8080/"
        },
        "id": "2bBRDgI2p8Nh",
        "outputId": "c452337e-114d-4daa-e9f8-2b54ff858865"
      },
      "execution_count": 5,
      "outputs": [
        {
          "output_type": "stream",
          "name": "stdout",
          "text": [
            "My name is Suraj Thakur\n"
          ]
        }
      ]
    },
    {
      "cell_type": "code",
      "source": [],
      "metadata": {
        "id": "K_PIdcSKsbsm"
      },
      "execution_count": null,
      "outputs": []
    },
    {
      "cell_type": "code",
      "source": [
        "#Compare and contrast mutable and immutable objects in Python with examples.\n",
        "\n",
        "#Mutable objects are those objects which ccan be modified after their creation. For example - list and dictionaries.\n",
        "list = [25,50,65]                                 #A list created\n",
        "list[2] = 75                                      #65 is chabged as 75\n",
        "list                                              #List will be printed as [25,50,75]\n",
        "#This is the concept of mutability as list can be modified after creation.\n",
        "\n",
        "#Immutable objects are those objects which cannot be modified after creation.  For example - string\n",
        "string = \"Suraj\"                                  #A string is created\n",
        "string[2] = \"d\"                                   #This will give an error as strings are immutable\n",
        "string"
      ],
      "metadata": {
        "colab": {
          "base_uri": "https://localhost:8080/",
          "height": 35
        },
        "id": "d_87GrX6rMHX",
        "outputId": "ae828b22-51bb-4ddc-de1c-fff2bbe43bf2"
      },
      "execution_count": 9,
      "outputs": [
        {
          "output_type": "execute_result",
          "data": {
            "text/plain": [
              "'Suraj'"
            ],
            "application/vnd.google.colaboratory.intrinsic+json": {
              "type": "string"
            }
          },
          "metadata": {},
          "execution_count": 9
        }
      ]
    },
    {
      "cell_type": "code",
      "source": [
        "#Discuss the different types of operators in Python and provide examples of how they are used.\n",
        "\n",
        "#Operators are special symbols or keywords that are used to carry out specific actions in python language.\n",
        "#Python has many types of operators:-\n",
        "# -Arithemetic operators(+,-,*,/) - These are used to perform arithemetic operations.\n",
        "# -Logical operators(and,or,not) - There are used to specify the relationship between operands in logical expression\n",
        "# -Comparison operators(<,>,<=,>=,==) - These are used to compare the relationship between two operands in an expression\n",
        "# -Assignment operator(=) - This is used to assign a value to a variable.\n"
      ],
      "metadata": {
        "id": "UrS3GA9ltqJt"
      },
      "execution_count": 10,
      "outputs": []
    },
    {
      "cell_type": "code",
      "source": [
        "#Explain the concept of type casting in Python with examples.\n",
        "\n",
        "#Type castng refers to the process of changing one data type to another.\n",
        "#It is necessary for performing arithemetic operations.\n",
        "#For example:- str(),list(),dict() etc.\n",
        "l1 = [22,33,44]                                    #A list \"l1\" is created\n",
        "type(l1)                                           #It will show that \"l1\" is a list\n",
        "a = str(l1)                                        #\"l1\" is changed to string and is stored in \"a\"\n",
        "type(a)                                            #It will print a's type which is string"
      ],
      "metadata": {
        "colab": {
          "base_uri": "https://localhost:8080/"
        },
        "id": "FEwHAOgCvTdK",
        "outputId": "d4f662a4-bae2-44a7-816b-015c31db8c43"
      },
      "execution_count": 14,
      "outputs": [
        {
          "output_type": "execute_result",
          "data": {
            "text/plain": [
              "str"
            ]
          },
          "metadata": {},
          "execution_count": 14
        }
      ]
    },
    {
      "cell_type": "code",
      "source": [
        "#How do conditional statements work in Python? Illustrate with examples.\n",
        "\n",
        "#Conditional statements works when there is a condition to fulfil in a equation\n",
        "#if,else,elif are the keywords used for conditional statements\n",
        "#For example:- we have to print greater number than 5\n",
        "a = int(input(\"Enter a number greater than 5:\"))     #It will take an input in integer\n",
        "if a>5 :                                             #Condition is setted, if a will be greater than 5 then it will enter if's body\n",
        "  print(a,\"is greater than 5\")                       #It will be printed as shown\n",
        "else:                                                #If a is less than 5 then it will not enter in if's body and will enter else's body\n",
        "  print(a,\"is not greater than 5\")                   #It will be printed as shown\n",
        "\n",
        "#Only that statement will work which will fulfill the condition."
      ],
      "metadata": {
        "colab": {
          "base_uri": "https://localhost:8080/"
        },
        "id": "OxxiovjGwaAm",
        "outputId": "10d7e62c-0caf-46f6-d83b-b6dc6fe7b76c"
      },
      "execution_count": 18,
      "outputs": [
        {
          "output_type": "stream",
          "name": "stdout",
          "text": [
            "Enter a number greater than 5:4\n",
            "4 is not greater than 5\n"
          ]
        }
      ]
    },
    {
      "cell_type": "code",
      "source": [
        "#Describe the different types of loops in Python and their use cases with examples.\n",
        "\n",
        "#Loops are used to repeat a command until a specific task is fulfilled\n",
        "#There are two types of loops in python,\n",
        "# -FOR loop - used to repeat a sequence of elements\n",
        "#For example,\n",
        "\n",
        "for i in range(1,11):                                #It will print numbers from 1 to 10\n",
        "  print(i)\n",
        "\n",
        "# -WHILE loop - used to repeat a command until the condition is fulfilled\n",
        "#For example,\n",
        "\n",
        "a = 5\n",
        "while a>0:                                          #It will work until the condition is true\n",
        "  print(a)                                          #It will print numbers from 5 to 1\n",
        "  a = a-1                                           #It will decrease the value of a by 1 in each iteration"
      ],
      "metadata": {
        "colab": {
          "base_uri": "https://localhost:8080/"
        },
        "id": "Ny5KF2QIyQBg",
        "outputId": "b161a8ea-886d-48d0-aa70-e5475f3d7784"
      },
      "execution_count": 20,
      "outputs": [
        {
          "output_type": "stream",
          "name": "stdout",
          "text": [
            "1\n",
            "2\n",
            "3\n",
            "4\n",
            "5\n",
            "6\n",
            "7\n",
            "8\n",
            "9\n",
            "10\n",
            "5\n",
            "4\n",
            "3\n",
            "2\n",
            "1\n"
          ]
        }
      ]
    },
    {
      "cell_type": "code",
      "source": [],
      "metadata": {
        "id": "k-4DPA-i0AAw"
      },
      "execution_count": null,
      "outputs": []
    }
  ]
}