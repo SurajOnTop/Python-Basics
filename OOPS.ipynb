{
 "cells": [
  {
   "cell_type": "code",
   "execution_count": 1,
   "id": "37370fc6-98c7-47a0-8b1e-c02ddb87fd63",
   "metadata": {},
   "outputs": [],
   "source": [
    "#OOPS ASSIGNMENT"
   ]
  },
  {
   "cell_type": "code",
   "execution_count": 11,
   "id": "812cc2f0-e483-4855-ad50-390abaad7c00",
   "metadata": {},
   "outputs": [
    {
     "name": "stdout",
     "output_type": "stream",
     "text": [
      "Car Information: 2024 BMW M5\n"
     ]
    }
   ],
   "source": [
    "# Write a Python class for a `Car` with attributes for `make`, `model`, and `year`. Include a method to display the car's information.\n",
    "\n",
    "class Car:\n",
    "    def __init__(self, make, model, year):\n",
    "        self.make = make\n",
    "        self.model = model\n",
    "        self.year = year\n",
    "\n",
    "    def display_info(self):\n",
    "        print(f\"Car Information: {self.year} {self.make} {self.model}\")\n",
    "\n",
    "my_car = Car(\"BMW\", \"M5\", 2024)\n",
    "my_car.display_info()\n"
   ]
  },
  {
   "cell_type": "code",
   "execution_count": 15,
   "id": "7a0c22e2-93f7-4ee3-ba1f-8eac0c7355fc",
   "metadata": {},
   "outputs": [
    {
     "name": "stdout",
     "output_type": "stream",
     "text": [
      "2021 Buggati Chiron\n",
      "Total cars created: 2\n"
     ]
    }
   ],
   "source": [
    "#Explain the difference between instance methods and class methods. Provide an example of each\n",
    "\n",
    "#Instance method:-\n",
    " #Instance methods are the most common type of methods in a class. \n",
    " #These methods operate on instances (objects) of the class. \n",
    " #They can access and modify the instance’s attributes and are called on a specific instance of the class.\n",
    "#For example:-\n",
    "class Car:\n",
    "    def __init__(self, make, model, year):\n",
    "        self.make = make\n",
    "        self.model = model\n",
    "        self.year = year\n",
    "\n",
    "    def display_info(self):\n",
    "        # Instance method that uses the instance (self) to access attributes\n",
    "        print(f\"{self.year} {self.make} {self.model}\")\n",
    "\n",
    "my_car = Car(\"Buggati\", \"Chiron\", 2021)\n",
    "my_car.display_info()\n",
    "\n",
    "\n",
    "#Class method:-\n",
    " #Class methods are methods that operate on the class itself rather than on instances of the class. \n",
    " #They can access and modify class-level attributes, but they do not have access to instance-specific data.\n",
    "#For example:-\n",
    "class Car:\n",
    "    car_count = 0\n",
    "\n",
    "    def __init__(self, make, model, year):\n",
    "        self.make = make\n",
    "        self.model = model\n",
    "        self.year = year\n",
    "        Car.car_count += 1 \n",
    "\n",
    "    @classmethod\n",
    "    def display_car_count(cls):\n",
    "        # Class method that uses the class (cls) to access the class-level attribute\n",
    "        print(f\"Total cars created: {cls.car_count}\")\n",
    "\n",
    "car1 = Car(\"BMW\", \"M5\", 2024)\n",
    "car2 = Car(\"Ferrari\", \"SF90\", 2022)\n",
    "Car.display_car_count()\n"
   ]
  },
  {
   "cell_type": "code",
   "execution_count": 17,
   "id": "242bf404-384f-4a03-9761-5fea346faddb",
   "metadata": {},
   "outputs": [
    {
     "name": "stdout",
     "output_type": "stream",
     "text": [
      "5\n",
      "8\n",
      "Message: Hello\n",
      "From Alice: Hello there!\n",
      "Invalid number of arguments\n"
     ]
    }
   ],
   "source": [
    "#How does Python implement method overloading? Give an example.\n",
    "\n",
    "# 1  Using default arguments\n",
    "\n",
    "class Calculator:\n",
    "    def add(self, a, b=0):\n",
    "        return a + b\n",
    "\n",
    "calc = Calculator()\n",
    "\n",
    "print(calc.add(5)) \n",
    "\n",
    "print(calc.add(5, 3))  \n",
    "\n",
    "# 2  Using Variable-Length Arguments (*args and **kwargs)\n",
    "\n",
    "class Printer:\n",
    "    def print_message(self, *args):\n",
    "        if len(args) == 1:\n",
    "            print(f\"Message: {args[0]}\")\n",
    "        elif len(args) == 2:\n",
    "            print(f\"From {args[0]}: {args[1]}\")\n",
    "        else:\n",
    "            print(\"Invalid number of arguments\")\n",
    "\n",
    "printer = Printer()\n",
    "\n",
    "printer.print_message(\"Hello\")  \n",
    "\n",
    "printer.print_message(\"Alice\", \"Hello there!\") \n",
    "\n",
    "printer.print_message(\"Alice\", \"Hello\", \"Extra\") \n",
    "\n"
   ]
  },
  {
   "cell_type": "code",
   "execution_count": 21,
   "id": "d63f74f2-6784-471f-b389-956b120a662a",
   "metadata": {},
   "outputs": [
    {
     "name": "stdout",
     "output_type": "stream",
     "text": [
      "10\n",
      "This is a public method.\n",
      "20\n",
      "This is a protected method.\n"
     ]
    }
   ],
   "source": [
    "#What are the three types of access modifiers in Python? How are they denoted?\n",
    "\n",
    "#Public:-\n",
    " #Public members (attributes and methods) are accessible from anywhere,\n",
    " #both inside and outside the class. They have no restrictions on access.\n",
    "#Denotation: Public members are defined normally, without any leading underscores.\n",
    "\n",
    "class MyClass:\n",
    "    def __init__(self):\n",
    "        self.public_attribute = 10 \n",
    "\n",
    "    def public_method(self):\n",
    "        print(\"This is a public method.\")\n",
    "\n",
    "obj = MyClass()\n",
    "print(obj.public_attribute) \n",
    "obj.public_method()        \n",
    "\n",
    "#Protected:-\n",
    " #Protected members are meant to be accessed only within the class and its subclasses. \n",
    " #They are not strictly private but are considered to be for internal use and should not be accessed directly from outside the class.\n",
    "#Denotation: Protected members are denoted by a single leading underscore (_).\n",
    "\n",
    "class MyClass:\n",
    "    def __init__(self):\n",
    "        self._protected_attribute = 20  \n",
    "\n",
    "    def _protected_method(self):\n",
    "        print(\"This is a protected method.\")\n",
    "\n",
    "obj = MyClass()\n",
    "print(obj._protected_attribute)  \n",
    "obj._protected_method()        \n",
    "\n",
    "#Private\n",
    " #Private members are intended to be inaccessible from outside the class. \n",
    " #They can only be accessed within the class itself. Python does not fully enforce privacy, \n",
    " #but it uses name mangling to make it harder to access private members.\n",
    "#Denotation: Private members are denoted by two leading underscores (__).\n",
    "class MyClass:\n",
    "    def __init__(self):\n",
    "        self.__private_attribute = 30  \n",
    "\n",
    "    def __private_method(self):\n",
    "        print(\"This is a private method.\")\n",
    "\n",
    "obj = MyClass()\n"
   ]
  },
  {
   "cell_type": "code",
   "execution_count": 23,
   "id": "6efdcbfc-1fe8-4066-94c7-311954112d26",
   "metadata": {},
   "outputs": [
    {
     "name": "stdout",
     "output_type": "stream",
     "text": [
      "Dog barks\n",
      "Bat makes a screeching sound\n",
      "This animal can fly\n",
      "Puppy whines\n"
     ]
    }
   ],
   "source": [
    "#Describe the five types of inheritance in Python. Provide a simple example of multiple inheritance\n",
    "\n",
    "#Inheritance allows a class to inherit attributes and methods from another class.\n",
    "\n",
    "#Single Inheritance\n",
    " #Description: In single inheritance, a class (child class) inherits from only one parent class.\n",
    "class Animal:\n",
    "    def speak(self):\n",
    "        print(\"Animal makes a sound\")\n",
    "\n",
    "class Dog(Animal): \n",
    "    def speak(self):\n",
    "        print(\"Dog barks\")\n",
    "\n",
    "dog = Dog()\n",
    "dog.speak() \n",
    "\n",
    "#Multiple Inheritance\n",
    " #Description: In multiple inheritance, a class inherits from more than one parent class.\n",
    " #             The child class inherits attributes and methods from all its parent classes. \n",
    "class Animal:\n",
    "    def speak(self):\n",
    "        print(\"Animal makes a sound\")\n",
    "\n",
    "class Flyable:\n",
    "    def fly(self):\n",
    "        print(\"This animal can fly\")\n",
    "\n",
    "class Bat(Animal, Flyable):  \n",
    "    def speak(self):\n",
    "        print(\"Bat makes a screeching sound\")\n",
    "\n",
    "bat = Bat()\n",
    "bat.speak() \n",
    "bat.fly()   \n",
    "\n",
    "#Multilevel Inheritance\n",
    " #Description: In multilevel inheritance, a class (grandchild class) inherits from a class (parent class),\n",
    " #             which itself is derived from another class (grandparent class). This creates a chain of inheritance.\n",
    "class Animal:\n",
    "    def speak(self):\n",
    "        print(\"Animal makes a sound\")\n",
    "\n",
    "class Dog(Animal):  \n",
    "    def speak(self):\n",
    "        print(\"Dog barks\")\n",
    "\n",
    "class Puppy(Dog):\n",
    "    def speak(self):\n",
    "        print(\"Puppy whines\")\n",
    "\n",
    "puppy = Puppy()\n",
    "puppy.speak() \n"
   ]
  },
  {
   "cell_type": "code",
   "execution_count": 29,
   "id": "b9f56fc5-5e13-4b4f-a129-03d5f4df6e41",
   "metadata": {},
   "outputs": [
    {
     "name": "stdout",
     "output_type": "stream",
     "text": [
      "Area of the circle: 50.26548245743669\n",
      "Area of the rectangle: 24\n"
     ]
    }
   ],
   "source": [
    "#Create an abstract base class `Shape` with an abstract method `area()`. Then create two subclasses \n",
    "#  `Circle` and `Rectangle` that implement the `area()` method\n",
    "\n",
    "from abc import ABC, abstractmethod\n",
    "import math\n",
    "\n",
    "class Shape(ABC):\n",
    "    @abstractmethod\n",
    "    def area(self):\n",
    "        pass\n",
    "        \n",
    "class Circle(Shape):\n",
    "    def __init__(self, radius):\n",
    "        self.radius = radius\n",
    "\n",
    "    def area(self):\n",
    "        return math.pi * (self.radius ** 2)\n",
    "\n",
    "class Rectangle(Shape):\n",
    "    def __init__(self, width, height):\n",
    "        self.width = width\n",
    "        self.height = height\n",
    "\n",
    "    def area(self):\n",
    "        return self.width * self.height\n",
    "\n",
    "\n",
    "circle = Circle(4)\n",
    "rectangle = Rectangle(4, 6)\n",
    "\n",
    "print(f\"Area of the circle: {circle.area()}\") \n",
    "print(f\"Area of the rectangle: {rectangle.area()}\") \n"
   ]
  },
  {
   "cell_type": "code",
   "execution_count": 31,
   "id": "ff56fd68-21d5-48b4-af15-5ad2d18cec88",
   "metadata": {},
   "outputs": [
    {
     "name": "stdout",
     "output_type": "stream",
     "text": [
      "Area of Circle: 78.53981633974483\n",
      "Area of Rectangle: 24\n"
     ]
    }
   ],
   "source": [
    "# Demonstrate polymorphism by creating a function that can work with different shape objects to calculate and print their areas.\n",
    "\n",
    "from abc import ABC, abstractmethod\n",
    "import math\n",
    "\n",
    "class Shape(ABC):\n",
    "    @abstractmethod\n",
    "    def area(self):\n",
    "        pass\n",
    "\n",
    "class Circle(Shape):\n",
    "    def __init__(self, radius):\n",
    "        self.radius = radius\n",
    "\n",
    "    def area(self):\n",
    "        return math.pi * (self.radius ** 2)\n",
    "\n",
    "class Rectangle(Shape):\n",
    "    def __init__(self, width, height):\n",
    "        self.width = width\n",
    "        self.height = height\n",
    "\n",
    "    def area(self):\n",
    "        return self.width * self.height\n",
    "\n",
    "def print_area(shape: Shape):\n",
    "    print(f\"Area of {shape.__class__.__name__}: {shape.area()}\")\n",
    "\n",
    "circle = Circle(5)\n",
    "rectangle = Rectangle(4, 6)\n",
    "\n",
    "print_area(circle)    \n",
    "print_area(rectangle)\n"
   ]
  },
  {
   "cell_type": "code",
   "execution_count": 33,
   "id": "678d5db2-5bea-48df-a168-bdb6e542c9f7",
   "metadata": {},
   "outputs": [
    {
     "name": "stdout",
     "output_type": "stream",
     "text": [
      "Deposited $500. New balance: $1500\n",
      "Withdrew $200. New balance: $1300\n",
      "Current balance: $1300\n",
      "Account number: 12345678\n"
     ]
    }
   ],
   "source": [
    "# Implement encapsulation in a `BankAccount` class with private attributes for `balance` and \n",
    "# `account_number`. Include methods for deposit, withdrawal, and balance inquiry.\n",
    "\n",
    "class BankAccount:\n",
    "    def __init__(self, account_number, balance=0):\n",
    "        self.__account_number = account_number  \n",
    "        self.__balance = balance \n",
    "\n",
    "    def deposit(self, amount):\n",
    "        if amount > 0:\n",
    "            self.__balance += amount\n",
    "            print(f\"Deposited ${amount}. New balance: ${self.__balance}\")\n",
    "        else:\n",
    "            print(\"Deposit amount must be positive.\")\n",
    "\n",
    "    def withdraw(self, amount):\n",
    "        if amount > 0:\n",
    "            if self.__balance >= amount:\n",
    "                self.__balance -= amount\n",
    "                print(f\"Withdrew ${amount}. New balance: ${self.__balance}\")\n",
    "            else:\n",
    "                print(\"Insufficient funds.\")\n",
    "        else:\n",
    "            print(\"Withdrawal amount must be positive.\")\n",
    "\n",
    "    def get_balance(self):\n",
    "        return self.__balance\n",
    "\n",
    "    def get_account_number(self):\n",
    "        return self.__account_number\n",
    "\n",
    "account = BankAccount(account_number=\"12345678\", balance=1000)\n",
    "\n",
    "account.deposit(500) \n",
    "\n",
    "account.withdraw(200) \n",
    "\n",
    "print(f\"Current balance: ${account.get_balance()}\")  \n",
    "\n",
    "print(f\"Account number: {account.get_account_number()}\")  \n"
   ]
  },
  {
   "cell_type": "code",
   "execution_count": 35,
   "id": "21db68fb-b49d-4e86-b2f9-fb8517676a73",
   "metadata": {},
   "outputs": [
    {
     "name": "stdout",
     "output_type": "stream",
     "text": [
      "Vector(2, 3)\n",
      "Vector(4, 5)\n",
      "Vector(6, 8)\n"
     ]
    }
   ],
   "source": [
    "#Write a class that overrides the `__str__` and `__add__` magic methods. What will these methods allow you to do?\n",
    "\n",
    "class Vector:\n",
    "    def __init__(self, x, y):\n",
    "        self.x = x\n",
    "        self.y = y\n",
    "\n",
    "    def __str__(self):\n",
    "        return f\"Vector({self.x}, {self.y})\"\n",
    "    \n",
    "    def __add__(self, other):\n",
    "        if isinstance(other, Vector):\n",
    "            return Vector(self.x + other.x, self.y + other.y)\n",
    "        return NotImplemented\n",
    "\n",
    "\n",
    "v1 = Vector(2, 3)\n",
    "v2 = Vector(4, 5)\n",
    "\n",
    "print(v1)  \n",
    "print(v2) \n",
    "\n",
    "v3 = v1 + v2\n",
    "print(v3) \n"
   ]
  },
  {
   "cell_type": "code",
   "execution_count": 37,
   "id": "2bfd7ce0-d3cb-47d0-a6d7-470cd8c1e8c6",
   "metadata": {},
   "outputs": [
    {
     "name": "stdout",
     "output_type": "stream",
     "text": [
      "Function executed.\n",
      "Execution time of slow_function: 2.000643 seconds\n"
     ]
    }
   ],
   "source": [
    "# Create a decorator that measures and prints the execution time of a function.\n",
    "\n",
    "import time\n",
    "\n",
    "def measure_execution_time(func):\n",
    "    def wrapper(*args, **kwargs):\n",
    "        start_time = time.time()\n",
    "        \n",
    "        result = func(*args, **kwargs)\n",
    "        \n",
    "        end_time = time.time()\n",
    "        \n",
    "        execution_time = end_time - start_time\n",
    "        print(f\"Execution time of {func.__name__}: {execution_time:.6f} seconds\")\n",
    "        \n",
    "        return result\n",
    "    \n",
    "    return wrapper\n",
    "\n",
    "@measure_execution_time\n",
    "def slow_function():\n",
    "    time.sleep(2) \n",
    "    print(\"Function executed.\")\n",
    "\n",
    "slow_function()\n"
   ]
  },
  {
   "cell_type": "code",
   "execution_count": null,
   "id": "fa486ee4-db3a-423a-aa47-447f5929608d",
   "metadata": {},
   "outputs": [],
   "source": [
    "# Explain the concept of the Diamond Problem in multiple inheritance. How does Python resolve it?\n",
    "\n",
    "#The Diamond Problem (also known as the Deadly Diamond of Death) is a common issue in object-oriented programming (OOP) that occurs in languages that support multiple inheritance. \n",
    "#It arises when a class inherits from two classes that both have a common ancestor. \n",
    "#The problem occurs because the language needs to resolve which version of the ancestor class's methods or attributes to use when a subclass inherits from multiple classes that share a common base class."
   ]
  },
  {
   "cell_type": "code",
   "execution_count": 40,
   "id": "6d17dfde-0f6d-4a01-8307-fc8b41385f7e",
   "metadata": {},
   "outputs": [
    {
     "name": "stdout",
     "output_type": "stream",
     "text": [
      "3\n"
     ]
    }
   ],
   "source": [
    "#Write a class method that keeps track of the number of instances created from a class\n",
    "\n",
    "class MyClass:\n",
    "    instance_count = 0\n",
    "\n",
    "    def __init__(self):\n",
    "        MyClass.instance_count += 1\n",
    "\n",
    "    @classmethod\n",
    "    def get_instance_count(cls):\n",
    "        return cls.instance_count\n",
    "\n",
    "obj1 = MyClass()\n",
    "obj2 = MyClass()\n",
    "obj3 = MyClass()\n",
    "\n",
    "print(MyClass.get_instance_count())  \n"
   ]
  },
  {
   "cell_type": "code",
   "execution_count": 42,
   "id": "e845e483-3b28-4cac-a1e2-d942f8d8948a",
   "metadata": {},
   "outputs": [
    {
     "name": "stdout",
     "output_type": "stream",
     "text": [
      "True\n",
      "False\n",
      "False\n",
      "True\n"
     ]
    }
   ],
   "source": [
    "# Implement a static method in a class that checks if a given year is a leap year.\n",
    "\n",
    "class YearUtils:\n",
    "    \n",
    "    @staticmethod\n",
    "    def is_leap_year(year):\n",
    "        if (year % 4 == 0 and (year % 100 != 0 or year % 400 == 0)):\n",
    "            return True\n",
    "        return False\n",
    "\n",
    "print(YearUtils.is_leap_year(2020))  \n",
    "print(YearUtils.is_leap_year(2021))  \n",
    "print(YearUtils.is_leap_year(1900))  \n",
    "print(YearUtils.is_leap_year(2000)) \n"
   ]
  },
  {
   "cell_type": "code",
   "execution_count": null,
   "id": "df096489-5452-47ae-a5a0-803d0966fbe5",
   "metadata": {},
   "outputs": [],
   "source": []
  }
 ],
 "metadata": {
  "kernelspec": {
   "display_name": "Python 3 (ipykernel)",
   "language": "python",
   "name": "python3"
  },
  "language_info": {
   "codemirror_mode": {
    "name": "ipython",
    "version": 3
   },
   "file_extension": ".py",
   "mimetype": "text/x-python",
   "name": "python",
   "nbconvert_exporter": "python",
   "pygments_lexer": "ipython3",
   "version": "3.12.3"
  }
 },
 "nbformat": 4,
 "nbformat_minor": 5
}
